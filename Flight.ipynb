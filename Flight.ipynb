{
 "cells": [
  {
   "cell_type": "code",
   "execution_count": 2,
   "id": "bcf410fc",
   "metadata": {},
   "outputs": [],
   "source": [
    "import numpy as np\n",
    "import pandas as pd\n",
    "import matplotlib.pyplot as plt\n",
    "\n",
    "#Import the data for analysis\n",
    "df=pd.read_csv(\"downloads/flights.csv\")"
   ]
  },
  {
   "cell_type": "code",
   "execution_count": 10,
   "id": "a7c11883",
   "metadata": {},
   "outputs": [
    {
     "data": {
      "text/plain": [
       "Year                    0\n",
       "Month                   0\n",
       "DayofMonth              0\n",
       "DayOfWeek               0\n",
       "Carrier                 0\n",
       "OriginAirportID         0\n",
       "OriginAirportName       0\n",
       "OriginCity              0\n",
       "OriginState             0\n",
       "DestAirportID           0\n",
       "DestAirportName         0\n",
       "DestCity                0\n",
       "DestState               0\n",
       "CRSDepTime              0\n",
       "DepDelay                0\n",
       "DepDel15             2761\n",
       "CRSArrTime              0\n",
       "ArrDelay                0\n",
       "ArrDel15                0\n",
       "Cancelled               0\n",
       "dtype: int64"
      ]
     },
     "execution_count": 10,
     "metadata": {},
     "output_type": "execute_result"
    }
   ],
   "source": [
    "#To read the first 5 elements of the data\n",
    "df.head(5)\n",
    "#to Know the sum of total null values\n",
    "df.isnull().sum()"
   ]
  },
  {
   "cell_type": "code",
   "execution_count": 13,
   "id": "759c9d47",
   "metadata": {},
   "outputs": [],
   "source": [
    "#Filling all null values in the departure delay section with the mean values \n",
    "df[\"DepDel15\"]=df[\"DepDel15\"].fillna(df[\"DepDel15\"].mean())"
   ]
  },
  {
   "cell_type": "code",
   "execution_count": 14,
   "id": "87ecae9a",
   "metadata": {},
   "outputs": [
    {
     "data": {
      "text/plain": [
       "0"
      ]
     },
     "execution_count": 14,
     "metadata": {},
     "output_type": "execute_result"
    }
   ],
   "source": [
    "#Check the number of null values\n",
    "df[\"DepDel15\"].isnull().sum()"
   ]
  },
  {
   "cell_type": "code",
   "execution_count": 21,
   "id": "688c1130",
   "metadata": {},
   "outputs": [
    {
     "ename": "SyntaxError",
     "evalue": "positional argument follows keyword argument (Temp/ipykernel_12812/1504021987.py, line 23)",
     "output_type": "error",
     "traceback": [
      "\u001b[1;36m  File \u001b[1;32m\"C:\\Users\\HP\\AppData\\Local\\Temp/ipykernel_12812/1504021987.py\"\u001b[1;36m, line \u001b[1;32m23\u001b[0m\n\u001b[1;33m    ax[0].axvline(x=mean_value,color='red',linestyle-'dashed', linewidth= 2)\u001b[0m\n\u001b[1;37m                                                                           ^\u001b[0m\n\u001b[1;31mSyntaxError\u001b[0m\u001b[1;31m:\u001b[0m positional argument follows keyword argument\n"
     ]
    }
   ],
   "source": [
    "# to shpw the distribution\n",
    "def show_distribution(var_data):\n",
    "    import matplotlib.pyplot as plt\n",
    "    #statistics of data\n",
    "    mean_value=var_data.mean()\n",
    "    mode_value=var_data.mode()[0]\n",
    "    min_value=var_data.min()\n",
    "    max_value=var_data.max()\n",
    "    median_value=var_data.median()\n",
    "    print(var_data.name,'\\nMinimum:{:.2f}\\nMean:{:.2f}\\nMedian:{:.2f}\\nMode:{:.2f}\\nMaximum:{:.2f}\\n'.format(min_value,\n",
    "                                                                                            mean_value,\n",
    "                                                                                            median_value,\n",
    "                                                                                            mode_value,\n",
    "                                                                                            max_value)) \n",
    "    #To visualize our data              \n",
    "    fig,ax=plt.subplots(2,1,figsize=(12,4))\n",
    "        #To plot an histogram\n",
    "    ax[0].hist(var_data) \n",
    "    ax[0].set_ylabel(\"Frequency\")     \n",
    "    #To add vertical line accross distinct statistics value of data\n",
    "    ax[0].axvline(x=min_value, color = 'gray', linestyle='dashed', linewidth = 2)\n",
    "    ax[0].axvline(x=max_value,color='orange',linestyle='dashed', linewidth=2)  \n",
    "    ax[0].axvline(x=mean_value,color='red',linestyle-'dashed', linewidth= 2) \n",
    "    ax[0].axvline(x=median_value,color='black',linestyle='dashed',linewidth= 2)\n",
    "    ax[0].axvline(x=mode_value,color='cyan',linestyle='dashed',linewidth= 2 )                                                                                                              \n",
    "      #Horizontal Blox plot    \n",
    "    ax[1].boxplot(var_data, vert=False)\n",
    "    ax[1].set_xlabel(\"value\")\n",
    "    #To add a title to the plot\n",
    "    fig.suptitle(var_dat.name)\n",
    "    #Show figure\n",
    "    fig.show()\n",
    "\n",
    "    "
   ]
  },
  {
   "cell_type": "code",
   "execution_count": null,
   "id": "76ccb72b",
   "metadata": {},
   "outputs": [],
   "source": []
  },
  {
   "cell_type": "code",
   "execution_count": null,
   "id": "2bf72c63",
   "metadata": {},
   "outputs": [],
   "source": []
  },
  {
   "cell_type": "code",
   "execution_count": null,
   "id": "6aa018b9",
   "metadata": {},
   "outputs": [],
   "source": []
  }
 ],
 "metadata": {
  "kernelspec": {
   "display_name": "Python 3 (ipykernel)",
   "language": "python",
   "name": "python3"
  },
  "language_info": {
   "codemirror_mode": {
    "name": "ipython",
    "version": 3
   },
   "file_extension": ".py",
   "mimetype": "text/x-python",
   "name": "python",
   "nbconvert_exporter": "python",
   "pygments_lexer": "ipython3",
   "version": "3.9.7"
  }
 },
 "nbformat": 4,
 "nbformat_minor": 5
}
